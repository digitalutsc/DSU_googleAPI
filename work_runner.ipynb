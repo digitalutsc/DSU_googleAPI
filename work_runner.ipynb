{
 "cells": [
  {
   "cell_type": "code",
   "execution_count": 1,
   "id": "5d85e7ad-3018-45db-82f6-eead7bec3f21",
   "metadata": {
    "tags": []
   },
   "outputs": [
    {
     "name": "stdout",
     "output_type": "stream",
     "text": [
      "importing Jupyter notebook from download_repo_content.ipynb\n",
      "importing Jupyter notebook from get_hocr_from_google.ipynb\n"
     ]
    }
   ],
   "source": [
    "import yaml\n",
    "import pandas as pd\n",
    "import import_ipynb\n",
    "import download_repo_content as dl_content\n",
    "import get_hocr_from_google as dw_hocr"
   ]
  },
  {
   "cell_type": "code",
   "execution_count": 2,
   "id": "a39b3cca-cd27-4e99-9ceb-45e570cc4136",
   "metadata": {
    "tags": []
   },
   "outputs": [],
   "source": [
    "def load_config():\n",
    "    config_file_path = 'config.yml'\n",
    "    with open(config_file_path, 'r') as file:\n",
    "        config = yaml.safe_load(file)\n",
    "    return config"
   ]
  },
  {
   "cell_type": "code",
   "execution_count": 3,
   "id": "9d6f5f3f-4ead-4b4d-9293-7a07aaafc3b3",
   "metadata": {
    "tags": []
   },
   "outputs": [
    {
     "name": "stdout",
     "output_type": "stream",
     "text": [
      "donwloading work with node_id: 1014\n",
      "donwloading file: 2887\n",
      "donwloading file: 2890\n",
      "donwloading file: 2884\n",
      "donwloading file: 2881\n",
      "donwloading work with node_id: 1022\n",
      "donwloading file: 2906\n",
      "donwloading file: 2903\n",
      "donwloading work with node_id: 1351\n",
      "donwloading file: 3814\n",
      "donwloading file: 3841\n",
      "donwloading file: 3844\n",
      "donwloading file: 3847\n",
      "donwloading file: 3850\n",
      "donwloading file: 3853\n",
      "donwloading file: 3856\n",
      "donwloading file: 3859\n",
      "donwloading file: 3862\n",
      "donwloading file: 3817\n",
      "creating hocr for 1017\n",
      "creating hocr for 1018\n",
      "creating hocr for 1016\n",
      "creating hocr for 1015\n",
      "creating hocr for 1024\n",
      "creating hocr for 1023\n",
      "creating hocr for 1352\n",
      "creating hocr for 1361\n",
      "creating hocr for 1362\n",
      "creating hocr for 1363\n",
      "creating hocr for 1364\n",
      "creating hocr for 1365\n",
      "creating hocr for 1366\n",
      "creating hocr for 1367\n",
      "creating hocr for 1368\n",
      "creating hocr for 1353\n"
     ]
    }
   ],
   "source": [
    "if __name__ == \"__main__\":\n",
    "    config = load_config()\n",
    "    \n",
    "    if config[\"action_direactive\"] == \"download\" or config[\"action_direactive\"] == \"download_and_hocr\":\n",
    "        process_data = dl_content.download_files(config)\n",
    "        process_data_df = pd.DataFrame(process_data)\n",
    "        process_data_df.to_csv(config[\"csv_output_file\"], index=False)\n",
    "        \n",
    "    \n",
    "    if config[\"action_direactive\"] == \"hocr\" or config[\"action_direactive\"] == \"download_and_hocr\":\n",
    "        process_data_df = pd.read_csv(config[\"csv_output_file\"])\n",
    "\n",
    "        for index, row in process_data_df.iterrows():\n",
    "            node_id = str(row[\"node_id\"])\n",
    "            file_uri = str(row[\"file_uri\"])\n",
    "            title = str(row[\"title\"])\n",
    "\n",
    "            if not str(file_uri) == \"nan\":\n",
    "                success_flag, documentai_json_file = dw_hocr.get_documentai_from_google(config, file_uri)\n",
    "                print(\"creating hocr for \" + str(node_id))\n",
    "                if success_flag == True:\n",
    "                    process_data_df.loc[index, \"document_file\"] = documentai_json_file\n",
    "                    hocr_success_flag, hocr_file = dw_hocr.convert_document_to_hocr(documentai_json_file, title)\n",
    "                    process_data_df.loc[index, \"hocr_file\"] = hocr_file\n",
    "                else:\n",
    "                    process_data_df.loc[index, \"document_file\"] = \"Fail\"\n",
    "                    process_data_df.loc[index, \"hocr_file\"] = \"Fail\"\n",
    "        process_data_df.to_csv(\"hocr_\" + config[\"csv_output_file\"], index=False)\n",
    "    \n",
    "    if config[\"action_direactive\"] == \"pdf\" or config[\"action_direactive\"] == \"download_and_hocr_and_pdf\":\n",
    "        for index, row in process_data_df.iterrows():\n",
    "            node_id = str(row[\"node_id\"])\n",
    "            file_uri = str(row[\"file_uri\"])\n",
    "            hocr_file = str(row[\"hocr_file\"])\n",
    "            title = str(row[\"title\"])        \n",
    "        "
   ]
  },
  {
   "cell_type": "code",
   "execution_count": null,
   "id": "a1d11a35-0ec7-45e2-9618-6792a25825cf",
   "metadata": {
    "tags": []
   },
   "outputs": [],
   "source": [
    "process_data_df.to_csv(\"hocr_\" + config[\"csv_output_file\"], index=False)"
   ]
  },
  {
   "cell_type": "code",
   "execution_count": null,
   "id": "e8b54f37-5a49-4c8c-b315-3025d07b13c8",
   "metadata": {},
   "outputs": [],
   "source": []
  }
 ],
 "metadata": {
  "kernelspec": {
   "display_name": "Python 3 (ipykernel)",
   "language": "python",
   "name": "python3"
  },
  "language_info": {
   "codemirror_mode": {
    "name": "ipython",
    "version": 3
   },
   "file_extension": ".py",
   "mimetype": "text/x-python",
   "name": "python",
   "nbconvert_exporter": "python",
   "pygments_lexer": "ipython3",
   "version": "3.10.12"
  }
 },
 "nbformat": 4,
 "nbformat_minor": 5
}
