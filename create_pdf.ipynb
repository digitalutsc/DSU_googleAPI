{
 "cells": [
  {
   "cell_type": "code",
   "execution_count": 3,
   "id": "be7b809c-b41d-4a82-a7d1-55a6ec50292c",
   "metadata": {
    "tags": []
   },
   "outputs": [],
   "source": [
    "import os"
   ]
  },
  {
   "cell_type": "code",
   "execution_count": null,
   "id": "cf335ba6-07e1-48b5-a6b2-db8408e88a7f",
   "metadata": {},
   "outputs": [],
   "source": [
    "def create_searchable_pdf(folder_path, output_file_path):\n",
    "    cmd = \"./hocr \" + folder_path + \" > \" + output_file_path\n",
    "    "
   ]
  }
 ],
 "metadata": {
  "kernelspec": {
   "display_name": "Python 3 (ipykernel)",
   "language": "python",
   "name": "python3"
  },
  "language_info": {
   "codemirror_mode": {
    "name": "ipython",
    "version": 3
   },
   "file_extension": ".py",
   "mimetype": "text/x-python",
   "name": "python",
   "nbconvert_exporter": "python",
   "pygments_lexer": "ipython3",
   "version": "3.10.12"
  }
 },
 "nbformat": 4,
 "nbformat_minor": 5
}
